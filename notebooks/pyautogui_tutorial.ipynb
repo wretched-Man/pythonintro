{
 "cells": [
  {
   "cell_type": "markdown",
   "id": "2bca29d8-e842-4586-a72b-c7720b8d0d4b",
   "metadata": {},
   "source": [
    "# PyAutoGUI"
   ]
  },
  {
   "cell_type": "markdown",
   "id": "2257ef30-6e5d-4e52-9ff1-7351c53ba281",
   "metadata": {},
   "source": [
    "PyAutoGui is a Python package that enables automation by allowing interaction of the keyboard, mouse and image recognition via code. it allows us to interact with the keyboard without necessarily pressing the buttons, but only by using code. This is my introduction to it... trying to undrstand it and then I can find out its various applications."
   ]
  },
  {
   "cell_type": "code",
   "execution_count": 1,
   "id": "c1db230b-9cbb-4b3c-b518-87b1d0cf0850",
   "metadata": {},
   "outputs": [],
   "source": [
    "import pyautogui"
   ]
  },
  {
   "cell_type": "markdown",
   "id": "5aa25438-d0e1-4c61-b559-58ffd8b4909c",
   "metadata": {},
   "source": [
    "## Mouse Control Functions"
   ]
  },
  {
   "cell_type": "code",
   "execution_count": 4,
   "id": "d9f6c012-4256-436c-a7c8-d74200fbcf9d",
   "metadata": {},
   "outputs": [
    {
     "data": {
      "text/plain": [
       "Size(width=1366, height=768)"
      ]
     },
     "execution_count": 4,
     "metadata": {},
     "output_type": "execute_result"
    }
   ],
   "source": [
    "#This function tells us the size of the screen\n",
    "pyautogui.size()"
   ]
  },
  {
   "cell_type": "code",
   "execution_count": 7,
   "id": "2257f66a-d416-44ec-8776-9f5362fdc799",
   "metadata": {},
   "outputs": [
    {
     "data": {
      "text/plain": [
       "Point(x=1241, y=478)"
      ]
     },
     "execution_count": 7,
     "metadata": {},
     "output_type": "execute_result"
    }
   ],
   "source": [
    "#This function tells us the current cursor\n",
    "#position on screen\n",
    "pyautogui.position()"
   ]
  },
  {
   "cell_type": "markdown",
   "id": "af171445-f018-494e-8451-ee0265f4feec",
   "metadata": {},
   "source": [
    "### Mouse movement"
   ]
  },
  {
   "cell_type": "markdown",
   "id": "c9dc7a5e-3ec3-4ed8-ab49-db9de182cce0",
   "metadata": {},
   "source": [
    "On top of getting the current mouse position, we can also move the mouse to another location."
   ]
  },
  {
   "cell_type": "code",
   "execution_count": 8,
   "id": "6cf5356d-398a-4789-bf49-7ea47c30b511",
   "metadata": {},
   "outputs": [],
   "source": [
    "pyautogui.moveTo(100, 200) #Move mouse to X = 100, Y = 200"
   ]
  },
  {
   "cell_type": "markdown",
   "id": "383671be-d232-411b-997b-39d7def7fe4d",
   "metadata": {},
   "source": [
    "We can also specufy how long we want the moving to take."
   ]
  },
  {
   "cell_type": "code",
   "execution_count": 9,
   "id": "833d6f74-58b9-4ea9-97ee-a6fe005d53c3",
   "metadata": {},
   "outputs": [],
   "source": [
    "pyautogui.moveTo(None, 0, 2) #Move mouse to X = unchanged, Y = 0, over 2 seconds"
   ]
  },
  {
   "cell_type": "markdown",
   "id": "935dc9f5-7534-4346-b179-9866fbf1fa5f",
   "metadata": {},
   "source": [
    "We can have relative moves, moves relative to the current position."
   ]
  },
  {
   "cell_type": "code",
   "execution_count": 12,
   "id": "d2bede8d-af83-4d7a-82f1-08acd1f72745",
   "metadata": {},
   "outputs": [],
   "source": [
    "pyautogui.move(500, 200, 3)"
   ]
  },
  {
   "cell_type": "markdown",
   "id": "c8b710e6-38dc-403b-b8fb-1d434cc761fc",
   "metadata": {},
   "source": [
    "### Mouse Drags"
   ]
  },
  {
   "cell_type": "markdown",
   "id": "a6450bfd-dcc8-4df3-93ce-9bfb531e72c2",
   "metadata": {},
   "source": [
    "Similar to the `move()` and `moveTo()` function, we can move the cursor while holding down a specific button. The `drag()` and dragTo()` functions allow us to do this."
   ]
  },
  {
   "cell_type": "code",
   "execution_count": 26,
   "id": "bb23064e-fdb2-4941-90bf-e89c223598cb",
   "metadata": {},
   "outputs": [],
   "source": [
    "#Drag mouse to highlight the above text, from mouse movement\n",
    "pyautogui.click()\n",
    "pyautogui.drag(0, 400, 1.5, button='left')"
   ]
  },
  {
   "cell_type": "markdown",
   "id": "46859548-6623-4e7c-9807-0d2bfaa9ab8a",
   "metadata": {},
   "source": [
    "We can also combine a call to `moveTo()` with click."
   ]
  },
  {
   "cell_type": "code",
   "execution_count": 30,
   "id": "35102836-31da-47a6-82be-21ff96a307f5",
   "metadata": {},
   "outputs": [],
   "source": [
    "pyautogui.click(x=171, y=200) #Move to that position and click"
   ]
  },
  {
   "cell_type": "markdown",
   "id": "bd19ddd7-8460-4311-9cfe-82a3cf880d89",
   "metadata": {},
   "source": [
    "We can scroll using the `scroll` method."
   ]
  },
  {
   "cell_type": "code",
   "execution_count": null,
   "id": "229278a4-c40a-4067-904f-2d225343e0e4",
   "metadata": {},
   "outputs": [],
   "source": [
    "#seems not to work\n",
    "pyautogui.scroll??"
   ]
  },
  {
   "cell_type": "markdown",
   "id": "198164ad-8b30-44db-97c2-177e993b23a7",
   "metadata": {},
   "source": [
    "## Keyboard Functions"
   ]
  },
  {
   "cell_type": "markdown",
   "id": "c145396a-c7ee-454f-b3b9-66a136a85a10",
   "metadata": {},
   "source": [
    "We can use pyautogui for keyboard control."
   ]
  },
  {
   "cell_type": "code",
   "execution_count": 47,
   "id": "2493ddc4-b0f0-4eb2-91db-0d31794a9453",
   "metadata": {},
   "outputs": [],
   "source": [
    "#go to the nearest text box and write\n",
    "pyautogui.moveTo(147, 50)\n",
    "pyautogui.click()\n",
    "pyautogui.write('http://localhost:8888/tree/mynotes/module_6')"
   ]
  },
  {
   "cell_type": "markdown",
   "id": "030d6442-be86-47fe-9c63-d28c38fd6891",
   "metadata": {},
   "source": [
    "The `write()` function only allows you to write printable characters. hence, you cannot 'write' characters like F1, Fn, Enter etc. For that, we use the `press()` method. To see the keys we can press, we use `pyautogui.KEYBOARD_KEYS`. The function acts as a wrapper for the `keyUp()` and `keyDown()` methods. It combines both."
   ]
  },
  {
   "cell_type": "code",
   "execution_count": 49,
   "id": "376c9e17-2be7-427a-951d-02f1517478ac",
   "metadata": {},
   "outputs": [
    {
     "name": "stdout",
     "output_type": "stream",
     "text": [
      "['\\t', '\\n', '\\r', ' ', '!', '\"', '#', '$', '%', '&', \"'\", '(', ')', '*', '+', ',', '-', '.', '/', '0', '1', '2', '3', '4', '5', '6', '7', '8', '9', ':', ';', '<', '=', '>', '?', '@', '[', '\\\\', ']', '^', '_', '`', 'a', 'b', 'c', 'd', 'e', 'f', 'g', 'h', 'i', 'j', 'k', 'l', 'm', 'n', 'o', 'p', 'q', 'r', 's', 't', 'u', 'v', 'w', 'x', 'y', 'z', '{', '|', '}', '~', 'accept', 'add', 'alt', 'altleft', 'altright', 'apps', 'backspace', 'browserback', 'browserfavorites', 'browserforward', 'browserhome', 'browserrefresh', 'browsersearch', 'browserstop', 'capslock', 'clear', 'convert', 'ctrl', 'ctrlleft', 'ctrlright', 'decimal', 'del', 'delete', 'divide', 'down', 'end', 'enter', 'esc', 'escape', 'execute', 'f1', 'f10', 'f11', 'f12', 'f13', 'f14', 'f15', 'f16', 'f17', 'f18', 'f19', 'f2', 'f20', 'f21', 'f22', 'f23', 'f24', 'f3', 'f4', 'f5', 'f6', 'f7', 'f8', 'f9', 'final', 'fn', 'hanguel', 'hangul', 'hanja', 'help', 'home', 'insert', 'junja', 'kana', 'kanji', 'launchapp1', 'launchapp2', 'launchmail', 'launchmediaselect', 'left', 'modechange', 'multiply', 'nexttrack', 'nonconvert', 'num0', 'num1', 'num2', 'num3', 'num4', 'num5', 'num6', 'num7', 'num8', 'num9', 'numlock', 'pagedown', 'pageup', 'pause', 'pgdn', 'pgup', 'playpause', 'prevtrack', 'print', 'printscreen', 'prntscrn', 'prtsc', 'prtscr', 'return', 'right', 'scrolllock', 'select', 'separator', 'shift', 'shiftleft', 'shiftright', 'sleep', 'space', 'stop', 'subtract', 'tab', 'up', 'volumedown', 'volumemute', 'volumeup', 'win', 'winleft', 'winright', 'yen', 'command', 'option', 'optionleft', 'optionright']\n"
     ]
    }
   ],
   "source": [
    "# Here are all the keys we can use with pyautogui.press\n",
    "print(pyautogui.KEYBOARD_KEYS)"
   ]
  },
  {
   "cell_type": "markdown",
   "id": "2e7fddee-bb1b-433f-bb63-f6b41cc29fea",
   "metadata": {},
   "source": [
    "I the code below, I open Notepad++. I write a URL in the first line. I then use the code to open the URL."
   ]
  },
  {
   "cell_type": "code",
   "execution_count": 78,
   "id": "f4eb797e-4cda-43f4-9feb-752582601ec0",
   "metadata": {},
   "outputs": [],
   "source": [
    "pyautogui.moveTo(60, 110, 5)\n",
    "pyautogui.click(clicks=2)"
   ]
  },
  {
   "cell_type": "markdown",
   "id": "0f334cd4-10fc-44be-a5a1-f0e5e401a74a",
   "metadata": {},
   "source": [
    "You can hold down a key using the `keyDown()` method and release once done using the `keyUp()` method. For example, in the code below, we move the cursor to a text box and hold down the shift key while writing to write in caps."
   ]
  },
  {
   "cell_type": "code",
   "execution_count": 80,
   "id": "e7678691-77a4-4fcd-b2ad-57c8ac130feb",
   "metadata": {},
   "outputs": [],
   "source": [
    "pyautogui.moveTo(53, 110)\n",
    "pyautogui.click()\n",
    "pyautogui.keyDown('shift')\n",
    "pyautogui.write('automatically writing in caps')\n",
    "pyautogui.keyUp('shift')"
   ]
  },
  {
   "cell_type": "markdown",
   "id": "62ab2ca8-1911-458c-a1ae-4d544439c982",
   "metadata": {},
   "source": [
    "For convenience, we can also use the `hold()` function. The code below is similar to the one above."
   ]
  },
  {
   "cell_type": "code",
   "execution_count": 83,
   "id": "2abaf476-0a3b-4951-b5b6-f9695553a350",
   "metadata": {},
   "outputs": [],
   "source": [
    "pyautogui.moveTo(53, 110)\n",
    "pyautogui.click()\n",
    "with pyautogui.hold('shift'):\n",
    "    pyautogui.write('automatically writing in caps')"
   ]
  },
  {
   "cell_type": "markdown",
   "id": "64e23901-ea5d-496b-b3d5-2a8eaed9bb57",
   "metadata": {},
   "source": [
    "PyAutoGui also provides the hotkey function that allows one to press keyboard functions conveniently. We can use it to look at open tabs as below."
   ]
  },
  {
   "cell_type": "code",
   "execution_count": 94,
   "id": "1dd8b47e-4d8f-404d-8c0b-acfd6c4086a4",
   "metadata": {},
   "outputs": [],
   "source": [
    "pyautogui.hotkey('ctrl', 'alt', 'tab')"
   ]
  },
  {
   "cell_type": "markdown",
   "id": "4cbd3b0d-9452-4cd5-9944-2174cd775d43",
   "metadata": {},
   "source": [
    "## Screenshot"
   ]
  },
  {
   "cell_type": "markdown",
   "id": "2552306c-19eb-4de2-9b9b-d7d839fd0f0d",
   "metadata": {},
   "source": [
    "PyAutoGUI also provides functions for taking screenshots."
   ]
  },
  {
   "cell_type": "code",
   "execution_count": 95,
   "id": "2db7e925-ce36-4df9-94c3-ad2a9f62fc21",
   "metadata": {},
   "outputs": [],
   "source": [
    "img = pyautogui.screenshot()"
   ]
  },
  {
   "cell_type": "markdown",
   "id": "491484c4-784d-4c8f-a0ba-f5125fc454b1",
   "metadata": {},
   "source": [
    "It returns a Pillow Pil image object, that can be viewed as below."
   ]
  },
  {
   "cell_type": "markdown",
   "id": "acabe9e1-ef18-488e-9c59-02a26b629320",
   "metadata": {},
   "source": [
    "img"
   ]
  },
  {
   "cell_type": "markdown",
   "id": "d8e8eab0-9b83-48c5-a7f5-05b82a1b1a99",
   "metadata": {},
   "source": [
    "The function looks as below:\n",
    "``` python\n",
    "pyautogui.screenshot(imageFilename=None, region=None, allScreens=False)\n",
    "```\n",
    "\n",
    "**imageFilename** - if we want to save the file, we can pass the filename as the first argument.\n",
    "<br>\n",
    "**region** - we can also pass the image region if we only want to screenshot a small region.\n"
   ]
  },
  {
   "cell_type": "markdown",
   "id": "ca87faf3-c405-42e2-92ca-bd6ae6b118a6",
   "metadata": {},
   "source": [
    "## Locate Functions"
   ]
  },
  {
   "cell_type": "markdown",
   "id": "e1b116e2-823f-49ae-a213-dfbfe07b1db7",
   "metadata": {},
   "source": [
    "PyAutoGUI also provides us with `Locate` functions. These functions allow us to locate images on the screen or in a bigger image. We can pass a portion of an image to search for and locate it in the screen if it exists.\n",
    "<br>\n",
    "The Locate functions include:\n",
    "<br>\n",
    "**locate**\n",
    "<br>\n",
    "**locateAll**\n",
    "<br>\n",
    "**locateAllOnScreen**\n",
    "<br>\n",
    "**locateCenterOnScreen**\n",
    "<br>\n",
    "**locateOnScreen**\n",
    "<br>\n",
    "**locateOnWindow**\n",
    "<br>\n",
    "It is important to note that the functions can be pretty slow, especially for games.\n",
    "<br>\n",
    "Another note is that you can use the confidence parameter to set the error tolerance level of your find."
   ]
  },
  {
   "cell_type": "code",
   "execution_count": null,
   "id": "cac25b30-b935-46d7-a92f-66954dbf32b7",
   "metadata": {},
   "outputs": [],
   "source": []
  }
 ],
 "metadata": {
  "kernelspec": {
   "display_name": "opencv-env",
   "language": "python",
   "name": "opencv-env"
  },
  "language_info": {
   "codemirror_mode": {
    "name": "ipython",
    "version": 3
   },
   "file_extension": ".py",
   "mimetype": "text/x-python",
   "name": "python",
   "nbconvert_exporter": "python",
   "pygments_lexer": "ipython3",
   "version": "3.12.2"
  }
 },
 "nbformat": 4,
 "nbformat_minor": 5
}
